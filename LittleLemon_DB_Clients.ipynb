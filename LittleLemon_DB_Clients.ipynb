{
 "cells": [
  {
   "cell_type": "code",
   "execution_count": null,
   "metadata": {},
   "outputs": [],
   "source": [
    "import mysql.connector as connector"
   ]
  },
  {
   "cell_type": "code",
   "execution_count": null,
   "metadata": {},
   "outputs": [],
   "source": [
    "connection=connector.connect( user='root', password='root', db= 'LittleLemonDB')"
   ]
  },
  {
   "cell_type": "code",
   "execution_count": null,
   "metadata": {},
   "outputs": [],
   "source": [
    "cursor=connection.cursor()"
   ]
  },
  {
   "cell_type": "code",
   "execution_count": null,
   "metadata": {},
   "outputs": [],
   "source": [
    "show_tables_query = \"SHOW TABLES\"\n",
    "cursor.execute(show_tables_query)\n",
    "results= cursor.fetchall()\n",
    "for tables in results:\n",
    "    print(tables)"
   ]
  },
  {
   "cell_type": "code",
   "execution_count": null,
   "metadata": {},
   "outputs": [],
   "source": [
    "SQL_Join_Query=\"\"\"\n",
    "SELECT CONCAT(customers.CustomerFirstName, ' ', customers.CustomerLastName) AS FullName,\n",
    "customers.PhoneNumber, orders.TotalCost AS 'BillAmount'\n",
    "FROM customers, bookings, orders\n",
    "WHERE customers.CustomerID = bookings.CustomerID\n",
    "AND bookings.BookingID = orders.BookingID\n",
    "AND orders.TotalCost > 60;\"\"\"\n",
    "#Executing Query\n",
    "cursor.execute(SQL_Join_Query)\n",
    "#Fetching Records\n",
    "results = cursor.fetchall()\n",
    "#Grabbing Column Names\n",
    "columns = cursor.column_names\n",
    "\n",
    "#Pint Columns\n",
    "print(columns)\n",
    "#Print Results\n",
    "for row in results:\n",
    "    print(row)\n"
   ]
  },
  {
   "cell_type": "code",
   "execution_count": null,
   "metadata": {},
   "outputs": [],
   "source": [
    "cursor.close()\n",
    "connection.close()"
   ]
  }
 ],
 "metadata": {
  "language_info": {
   "name": "python"
  },
  "orig_nbformat": 4
 },
 "nbformat": 4,
 "nbformat_minor": 2
}
